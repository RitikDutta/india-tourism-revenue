{
 "cells": [
  {
   "cell_type": "code",
   "execution_count": 110,
   "metadata": {},
   "outputs": [],
   "source": [
    "#importing libraries\n",
    "import pandas as pd\n",
    "import numpy as np\n",
    "import matplotlib.pyplot as plt\n",
    "import seaborn as sns\n",
    "%matplotlib inline"
   ]
  },
  {
   "cell_type": "code",
   "execution_count": 111,
   "metadata": {
    "collapsed": true
   },
   "outputs": [],
   "source": [
    "#loading data\n",
    "data = pd.read_csv(\"revenue_5_years.csv\")"
   ]
  },
  {
   "cell_type": "code",
   "execution_count": 112,
   "metadata": {},
   "outputs": [
    {
     "name": "stdout",
     "output_type": "stream",
     "text": [
      "<class 'pandas.core.frame.DataFrame'>\n",
      "RangeIndex: 3977 entries, 0 to 3976\n",
      "Data columns (total 2 columns):\n",
      "2013/06/25            3977 non-null object\n",
      " 1447.852791371217    3977 non-null float64\n",
      "dtypes: float64(1), object(1)\n",
      "memory usage: 62.2+ KB\n"
     ]
    }
   ],
   "source": [
    "#studying data\n",
    "data.info()"
   ]
  },
  {
   "cell_type": "code",
   "execution_count": 113,
   "metadata": {},
   "outputs": [
    {
     "data": {
      "text/html": [
       "<div>\n",
       "<style>\n",
       "    .dataframe thead tr:only-child th {\n",
       "        text-align: right;\n",
       "    }\n",
       "\n",
       "    .dataframe thead th {\n",
       "        text-align: left;\n",
       "    }\n",
       "\n",
       "    .dataframe tbody tr th {\n",
       "        vertical-align: top;\n",
       "    }\n",
       "</style>\n",
       "<table border=\"1\" class=\"dataframe\">\n",
       "  <thead>\n",
       "    <tr style=\"text-align: right;\">\n",
       "      <th></th>\n",
       "      <th>2013/06/25</th>\n",
       "      <th>1447.852791371217</th>\n",
       "    </tr>\n",
       "  </thead>\n",
       "  <tbody>\n",
       "    <tr>\n",
       "      <th>0</th>\n",
       "      <td>2013/06/25</td>\n",
       "      <td>1442.080296</td>\n",
       "    </tr>\n",
       "    <tr>\n",
       "      <th>1</th>\n",
       "      <td>2013/06/27</td>\n",
       "      <td>1447.852791</td>\n",
       "    </tr>\n",
       "    <tr>\n",
       "      <th>2</th>\n",
       "      <td>2013/06/27</td>\n",
       "      <td>1442.080296</td>\n",
       "    </tr>\n",
       "    <tr>\n",
       "      <th>3</th>\n",
       "      <td>2013/06/27</td>\n",
       "      <td>1436.307800</td>\n",
       "    </tr>\n",
       "    <tr>\n",
       "      <th>4</th>\n",
       "      <td>2013/06/28</td>\n",
       "      <td>1442.080296</td>\n",
       "    </tr>\n",
       "  </tbody>\n",
       "</table>\n",
       "</div>"
      ],
      "text/plain": [
       "   2013/06/25   1447.852791371217\n",
       "0  2013/06/25         1442.080296\n",
       "1  2013/06/27         1447.852791\n",
       "2  2013/06/27         1442.080296\n",
       "3  2013/06/27         1436.307800\n",
       "4  2013/06/28         1442.080296"
      ]
     },
     "execution_count": 113,
     "metadata": {},
     "output_type": "execute_result"
    }
   ],
   "source": [
    "data.head()"
   ]
  },
  {
   "cell_type": "code",
   "execution_count": 114,
   "metadata": {},
   "outputs": [],
   "source": [
    "#converting the objects into datetime types\n",
    "data['dates'] = pd.to_datetime(data.values[:,0])"
   ]
  },
  {
   "cell_type": "code",
   "execution_count": 115,
   "metadata": {},
   "outputs": [
    {
     "data": {
      "text/html": [
       "<div>\n",
       "<style>\n",
       "    .dataframe thead tr:only-child th {\n",
       "        text-align: right;\n",
       "    }\n",
       "\n",
       "    .dataframe thead th {\n",
       "        text-align: left;\n",
       "    }\n",
       "\n",
       "    .dataframe tbody tr th {\n",
       "        vertical-align: top;\n",
       "    }\n",
       "</style>\n",
       "<table border=\"1\" class=\"dataframe\">\n",
       "  <thead>\n",
       "    <tr style=\"text-align: right;\">\n",
       "      <th></th>\n",
       "      <th>2013/06/25</th>\n",
       "      <th>1447.852791371217</th>\n",
       "      <th>dates</th>\n",
       "    </tr>\n",
       "  </thead>\n",
       "  <tbody>\n",
       "    <tr>\n",
       "      <th>0</th>\n",
       "      <td>2013/06/25</td>\n",
       "      <td>1442.080296</td>\n",
       "      <td>2013-06-25</td>\n",
       "    </tr>\n",
       "    <tr>\n",
       "      <th>1</th>\n",
       "      <td>2013/06/27</td>\n",
       "      <td>1447.852791</td>\n",
       "      <td>2013-06-27</td>\n",
       "    </tr>\n",
       "    <tr>\n",
       "      <th>2</th>\n",
       "      <td>2013/06/27</td>\n",
       "      <td>1442.080296</td>\n",
       "      <td>2013-06-27</td>\n",
       "    </tr>\n",
       "    <tr>\n",
       "      <th>3</th>\n",
       "      <td>2013/06/27</td>\n",
       "      <td>1436.307800</td>\n",
       "      <td>2013-06-27</td>\n",
       "    </tr>\n",
       "    <tr>\n",
       "      <th>4</th>\n",
       "      <td>2013/06/28</td>\n",
       "      <td>1442.080296</td>\n",
       "      <td>2013-06-28</td>\n",
       "    </tr>\n",
       "  </tbody>\n",
       "</table>\n",
       "</div>"
      ],
      "text/plain": [
       "   2013/06/25   1447.852791371217      dates\n",
       "0  2013/06/25         1442.080296 2013-06-25\n",
       "1  2013/06/27         1447.852791 2013-06-27\n",
       "2  2013/06/27         1442.080296 2013-06-27\n",
       "3  2013/06/27         1436.307800 2013-06-27\n",
       "4  2013/06/28         1442.080296 2013-06-28"
      ]
     },
     "execution_count": 115,
     "metadata": {},
     "output_type": "execute_result"
    }
   ],
   "source": [
    "data.head()"
   ]
  },
  {
   "cell_type": "code",
   "execution_count": 116,
   "metadata": {},
   "outputs": [
    {
     "name": "stdout",
     "output_type": "stream",
     "text": [
      "<class 'pandas.core.frame.DataFrame'>\n",
      "RangeIndex: 3977 entries, 0 to 3976\n",
      "Data columns (total 3 columns):\n",
      "2013/06/25            3977 non-null object\n",
      " 1447.852791371217    3977 non-null float64\n",
      "dates                 3977 non-null datetime64[ns]\n",
      "dtypes: datetime64[ns](1), float64(1), object(1)\n",
      "memory usage: 93.3+ KB\n"
     ]
    }
   ],
   "source": [
    "data.info()"
   ]
  },
  {
   "cell_type": "code",
   "execution_count": 117,
   "metadata": {
    "collapsed": true
   },
   "outputs": [],
   "source": [
    "#adding 3 columns for the dates into day, year, month\n",
    "data['Day'] = data['dates'].apply(lambda time: time.day)\n",
    "data['Month'] = data['dates'].apply(lambda time: time.month)\n",
    "data['Year'] = data['dates'].apply(lambda time: time.year)"
   ]
  },
  {
   "cell_type": "code",
   "execution_count": 118,
   "metadata": {},
   "outputs": [
    {
     "data": {
      "text/html": [
       "<div>\n",
       "<style>\n",
       "    .dataframe thead tr:only-child th {\n",
       "        text-align: right;\n",
       "    }\n",
       "\n",
       "    .dataframe thead th {\n",
       "        text-align: left;\n",
       "    }\n",
       "\n",
       "    .dataframe tbody tr th {\n",
       "        vertical-align: top;\n",
       "    }\n",
       "</style>\n",
       "<table border=\"1\" class=\"dataframe\">\n",
       "  <thead>\n",
       "    <tr style=\"text-align: right;\">\n",
       "      <th></th>\n",
       "      <th>2013/06/25</th>\n",
       "      <th>1447.852791371217</th>\n",
       "      <th>dates</th>\n",
       "      <th>Day</th>\n",
       "      <th>Month</th>\n",
       "      <th>Year</th>\n",
       "    </tr>\n",
       "  </thead>\n",
       "  <tbody>\n",
       "    <tr>\n",
       "      <th>0</th>\n",
       "      <td>2013/06/25</td>\n",
       "      <td>1442.080296</td>\n",
       "      <td>2013-06-25</td>\n",
       "      <td>25</td>\n",
       "      <td>6</td>\n",
       "      <td>2013</td>\n",
       "    </tr>\n",
       "    <tr>\n",
       "      <th>1</th>\n",
       "      <td>2013/06/27</td>\n",
       "      <td>1447.852791</td>\n",
       "      <td>2013-06-27</td>\n",
       "      <td>27</td>\n",
       "      <td>6</td>\n",
       "      <td>2013</td>\n",
       "    </tr>\n",
       "    <tr>\n",
       "      <th>2</th>\n",
       "      <td>2013/06/27</td>\n",
       "      <td>1442.080296</td>\n",
       "      <td>2013-06-27</td>\n",
       "      <td>27</td>\n",
       "      <td>6</td>\n",
       "      <td>2013</td>\n",
       "    </tr>\n",
       "    <tr>\n",
       "      <th>3</th>\n",
       "      <td>2013/06/27</td>\n",
       "      <td>1436.307800</td>\n",
       "      <td>2013-06-27</td>\n",
       "      <td>27</td>\n",
       "      <td>6</td>\n",
       "      <td>2013</td>\n",
       "    </tr>\n",
       "    <tr>\n",
       "      <th>4</th>\n",
       "      <td>2013/06/28</td>\n",
       "      <td>1442.080296</td>\n",
       "      <td>2013-06-28</td>\n",
       "      <td>28</td>\n",
       "      <td>6</td>\n",
       "      <td>2013</td>\n",
       "    </tr>\n",
       "  </tbody>\n",
       "</table>\n",
       "</div>"
      ],
      "text/plain": [
       "   2013/06/25   1447.852791371217      dates  Day  Month  Year\n",
       "0  2013/06/25         1442.080296 2013-06-25   25      6  2013\n",
       "1  2013/06/27         1447.852791 2013-06-27   27      6  2013\n",
       "2  2013/06/27         1442.080296 2013-06-27   27      6  2013\n",
       "3  2013/06/27         1436.307800 2013-06-27   27      6  2013\n",
       "4  2013/06/28         1442.080296 2013-06-28   28      6  2013"
      ]
     },
     "execution_count": 118,
     "metadata": {},
     "output_type": "execute_result"
    }
   ],
   "source": [
    "data.head()"
   ]
  },
  {
   "cell_type": "code",
   "execution_count": 119,
   "metadata": {},
   "outputs": [
    {
     "data": {
      "text/plain": [
       "<matplotlib.axes._subplots.AxesSubplot at 0x1de95ba8438>"
      ]
     },
     "execution_count": 119,
     "metadata": {},
     "output_type": "execute_result"
    },
    {
     "data": {
      "image/png": "[encoded data removed]",
      "text/plain": [
       "<matplotlib.figure.Figure at 0x1de95bc1208>"
      ]
     },
     "metadata": {},
     "output_type": "display_data"
    }
   ],
   "source": [
    "#plotting a graph for month\n",
    "sns.countplot(x='Month', data=data)"
   ]
  },
  {
   "cell_type": "code",
   "execution_count": 120,
   "metadata": {},
   "outputs": [
    {
     "data": {
      "text/plain": [
       "<matplotlib.axes._subplots.AxesSubplot at 0x1de95c22710>"
      ]
     },
     "execution_count": 120,
     "metadata": {},
     "output_type": "execute_result"
    },
    {
     "data": {
      "image/png": "[encoded data removed]",
      "text/plain": [
       "<matplotlib.figure.Figure at 0x1de95b9de10>"
      ]
     },
     "metadata": {},
     "output_type": "display_data"
    }
   ],
   "source": [
    "sns.countplot(x='Year', data=data)"
   ]
  },
  {
   "cell_type": "code",
   "execution_count": 121,
   "metadata": {
    "collapsed": true
   },
   "outputs": [],
   "source": [
    "#grouping\n",
    "byMonth = data.groupby('Month').count()\n",
    "byYear = data.groupby('Year').count()"
   ]
  },
  {
   "cell_type": "code",
   "execution_count": 122,
   "metadata": {},
   "outputs": [
    {
     "data": {
      "text/plain": [
       "<matplotlib.axes._subplots.AxesSubplot at 0x1de95d80908>"
      ]
     },
     "execution_count": 122,
     "metadata": {},
     "output_type": "execute_result"
    },
    {
     "data": {
      "image/png": "[encoded data removed]",
      "text/plain": [
       "<matplotlib.figure.Figure at 0x1de95d35cf8>"
      ]
     },
     "metadata": {},
     "output_type": "display_data"
    }
   ],
   "source": [
    "byMonth.plot()"
   ]
  },
  {
   "cell_type": "code",
   "execution_count": 123,
   "metadata": {},
   "outputs": [
    {
     "data": {
      "text/plain": [
       "<matplotlib.axes._subplots.AxesSubplot at 0x1de95dd7ba8>"
      ]
     },
     "execution_count": 123,
     "metadata": {},
     "output_type": "execute_result"
    },
    {
     "data": {
      "image/png": "[encoded data removed]",
      "text/plain": [
       "<matplotlib.figure.Figure at 0x1de95d99a58>"
      ]
     },
     "metadata": {},
     "output_type": "display_data"
    }
   ],
   "source": [
    "byYear.plot()"
   ]
  },
  {
   "cell_type": "code",
   "execution_count": 124,
   "metadata": {},
   "outputs": [],
   "source": [
    "src = \"revenue graph 5 year.PNG\""
   ]
  },
  {
   "cell_type": "code",
   "execution_count": 125,
   "metadata": {},
   "outputs": [
    {
     "data": {
      "image/png": "[encoded data removed]",
      "text/plain": [
       "<IPython.core.display.Image object>"
      ]
     },
     "execution_count": 125,
     "metadata": {},
     "output_type": "execute_result"
    }
   ],
   "source": [
    "from IPython.display import Image\n",
    "Image(filename='revenue graph 5 year.PNG')"
   ]
  },
  {
   "cell_type": "code",
   "execution_count": 126,
   "metadata": {
    "collapsed": true
   },
   "outputs": [],
   "source": [
    "#hence ve can see that all the data extrected is correct"
   ]
  },
  {
   "cell_type": "code",
   "execution_count": 127,
   "metadata": {},
   "outputs": [],
   "source": [
    "#getting dependent and independent matrix\n",
    "X = data.iloc[:,[3,4,5]].values"
   ]
  },
  {
   "cell_type": "code",
   "execution_count": 128,
   "metadata": {},
   "outputs": [
    {
     "data": {
      "text/plain": [
       "array([[  25,    6, 2013],\n",
       "       [  27,    6, 2013],\n",
       "       [  27,    6, 2013],\n",
       "       ...,\n",
       "       [  18,    5, 2018],\n",
       "       [  18,    5, 2018],\n",
       "       [  18,    5, 2018]], dtype=int64)"
      ]
     },
     "execution_count": 128,
     "metadata": {},
     "output_type": "execute_result"
    }
   ],
   "source": [
    "X"
   ]
  },
  {
   "cell_type": "code",
   "execution_count": 129,
   "metadata": {
    "collapsed": true
   },
   "outputs": [],
   "source": [
    "y = data.iloc[:, 1].values"
   ]
  },
  {
   "cell_type": "code",
   "execution_count": 130,
   "metadata": {},
   "outputs": [
    {
     "data": {
      "text/plain": [
       "array([1442.08029562, 1447.85279137, 1442.08029562, ..., 2088.59982023,\n",
       "       2082.82732448, 2077.05482872])"
      ]
     },
     "execution_count": 130,
     "metadata": {},
     "output_type": "execute_result"
    }
   ],
   "source": [
    "y"
   ]
  },
  {
   "cell_type": "code",
   "execution_count": 131,
   "metadata": {
    "collapsed": true
   },
   "outputs": [],
   "source": [
    "# we dont categorical data"
   ]
  },
  {
   "cell_type": "code",
   "execution_count": 132,
   "metadata": {
    "collapsed": true
   },
   "outputs": [],
   "source": [
    "from sklearn.model_selection import train_test_split\n",
    "X_train, X_test, y_train, y_test = train_test_split(X, y, test_size=0.2)"
   ]
  },
  {
   "cell_type": "code",
   "execution_count": 133,
   "metadata": {},
   "outputs": [
    {
     "data": {
      "text/plain": [
       "array([[  13,    6, 2016],\n",
       "       [  10,    4, 2014],\n",
       "       [   8,    6, 2014],\n",
       "       ...,\n",
       "       [   9,    4, 2014],\n",
       "       [   8,   11, 2015],\n",
       "       [   4,    6, 2016]], dtype=int64)"
      ]
     },
     "execution_count": 133,
     "metadata": {},
     "output_type": "execute_result"
    }
   ],
   "source": [
    "X_train"
   ]
  },
  {
   "cell_type": "code",
   "execution_count": 134,
   "metadata": {},
   "outputs": [
    {
     "data": {
      "text/plain": [
       "array([[  25,    3, 2015],\n",
       "       [  11,    2, 2016],\n",
       "       [   6,    7, 2017],\n",
       "       ...,\n",
       "       [   5,    4, 2014],\n",
       "       [   8,    4, 2016],\n",
       "       [  27,    1, 2017]], dtype=int64)"
      ]
     },
     "execution_count": 134,
     "metadata": {},
     "output_type": "execute_result"
    }
   ],
   "source": [
    "X_test"
   ]
  },
  {
   "cell_type": "code",
   "execution_count": 135,
   "metadata": {
    "collapsed": true
   },
   "outputs": [],
   "source": [
    "from sklearn.linear_model import LinearRegression\n",
    "regressor = LinearRegression()"
   ]
  },
  {
   "cell_type": "code",
   "execution_count": 136,
   "metadata": {},
   "outputs": [
    {
     "data": {
      "text/plain": [
       "LinearRegression(copy_X=True, fit_intercept=True, n_jobs=1, normalize=False)"
      ]
     },
     "execution_count": 136,
     "metadata": {},
     "output_type": "execute_result"
    }
   ],
   "source": [
    "regressor.fit(X_train, y_train)"
   ]
  },
  {
   "cell_type": "code",
   "execution_count": 137,
   "metadata": {},
   "outputs": [],
   "source": [
    "y_predict = regressor.predict(X_test)"
   ]
  },
  {
   "cell_type": "code",
   "execution_count": 138,
   "metadata": {},
   "outputs": [],
   "source": [
    "X_train_year = X_train[:, 2]\n",
    "X_train_year = np.squeeze(np.asarray(X_train_year))\n",
    "X_test_year = X_test[:, 2]"
   ]
  },
  {
   "cell_type": "code",
   "execution_count": 139,
   "metadata": {},
   "outputs": [
    {
     "data": {
      "text/plain": [
       "array([2016, 2014, 2014, ..., 2014, 2015, 2016], dtype=int64)"
      ]
     },
     "execution_count": 139,
     "metadata": {},
     "output_type": "execute_result"
    }
   ],
   "source": [
    "X_train_year"
   ]
  },
  {
   "cell_type": "code",
   "execution_count": 140,
   "metadata": {},
   "outputs": [
    {
     "data": {
      "text/plain": [
       "LinearRegression(copy_X=True, fit_intercept=True, n_jobs=1, normalize=False)"
      ]
     },
     "execution_count": 140,
     "metadata": {},
     "output_type": "execute_result"
    }
   ],
   "source": [
    "#\n",
    "regressor_year = LinearRegression()\n",
    "regressor_year.fit(X_train_year.reshape(-1, 1), y_train)"
   ]
  },
  {
   "cell_type": "code",
   "execution_count": 141,
   "metadata": {},
   "outputs": [
    {
     "data": {
      "text/plain": [
       "[<matplotlib.lines.Line2D at 0x1de95e6a7b8>]"
      ]
     },
     "execution_count": 141,
     "metadata": {},
     "output_type": "execute_result"
    },
    {
     "data": {
      "image/png": "[encoded data removed]",
      "text/plain": [
       "<matplotlib.figure.Figure at 0x1de95e6a748>"
      ]
     },
     "metadata": {},
     "output_type": "display_data"
    }
   ],
   "source": [
    "plt.scatter(X_train_year, y_train)\n",
    "plt.plot(X_train_year, regressor_year.predict(X_train_year.reshape(-1, 1)))"
   ]
  },
  {
   "cell_type": "code",
   "execution_count": 142,
   "metadata": {
    "collapsed": true
   },
   "outputs": [],
   "source": [
    "X_test_year = X_test[:, 2]"
   ]
  },
  {
   "cell_type": "code",
   "execution_count": 143,
   "metadata": {},
   "outputs": [
    {
     "data": {
      "text/plain": [
       "<matplotlib.collections.PathCollection at 0x1de95f19780>"
      ]
     },
     "execution_count": 143,
     "metadata": {},
     "output_type": "execute_result"
    },
    {
     "data": {
      "image/png": "[encoded data removed]",
      "text/plain": [
       "<matplotlib.figure.Figure at 0x1de95e79128>"
      ]
     },
     "metadata": {},
     "output_type": "display_data"
    }
   ],
   "source": [
    "\n",
    "plt.scatter(X_test_year, y_test)\n",
    "#plt.plot(X_train, regressor.predict(X_train_year.reshape(-1, 1)))"
   ]
  },
  {
   "cell_type": "code",
   "execution_count": 144,
   "metadata": {},
   "outputs": [
    {
     "name": "stdout",
     "output_type": "stream",
     "text": [
      "0.6695983046329704\n"
     ]
    }
   ],
   "source": [
    "accuracy = regressor.score(X_test, y_test)\n",
    "print(accuracy)"
   ]
  },
  {
   "cell_type": "code",
   "execution_count": 145,
   "metadata": {
    "collapsed": true
   },
   "outputs": [],
   "source": [
    "from sklearn.gaussian_process import GaussianProcessRegressor\n",
    "G_regressor = GaussianProcessRegressor()"
   ]
  },
  {
   "cell_type": "code",
   "execution_count": 146,
   "metadata": {},
   "outputs": [
    {
     "data": {
      "text/plain": [
       "GaussianProcessRegressor(alpha=1e-10, copy_X_train=True, kernel=None,\n",
       "             n_restarts_optimizer=0, normalize_y=False,\n",
       "             optimizer='fmin_l_bfgs_b', random_state=None)"
      ]
     },
     "execution_count": 146,
     "metadata": {},
     "output_type": "execute_result"
    }
   ],
   "source": [
    "G_regressor.fit(X_train, y_train)"
   ]
  },
  {
   "cell_type": "code",
   "execution_count": 147,
   "metadata": {},
   "outputs": [
    {
     "data": {
      "text/plain": [
       "0.9995484397819581"
      ]
     },
     "execution_count": 147,
     "metadata": {},
     "output_type": "execute_result"
    }
   ],
   "source": [
    "G_regressor.score(X_train, y_train)"
   ]
  },
  {
   "cell_type": "code",
   "execution_count": 148,
   "metadata": {},
   "outputs": [],
   "source": [
    "#hence we can see that model is highly overfitted"
   ]
  },
  {
   "cell_type": "markdown",
   "metadata": {},
   "source": [
    "### solving by months"
   ]
  },
  {
   "cell_type": "code",
   "execution_count": 149,
   "metadata": {},
   "outputs": [],
   "source": [
    "dates = data.iloc[:, -1].values"
   ]
  },
  {
   "cell_type": "code",
   "execution_count": 150,
   "metadata": {},
   "outputs": [
    {
     "data": {
      "text/plain": [
       "array([2013, 2013, 2013, ..., 2018, 2018, 2018], dtype=int64)"
      ]
     },
     "execution_count": 150,
     "metadata": {},
     "output_type": "execute_result"
    }
   ],
   "source": [
    "dates"
   ]
  },
  {
   "cell_type": "code",
   "execution_count": 151,
   "metadata": {},
   "outputs": [
    {
     "data": {
      "text/plain": [
       "array([1442.08029562, 1447.85279137, 1442.08029562, ..., 2088.59982023,\n",
       "       2082.82732448, 2077.05482872])"
      ]
     },
     "execution_count": 151,
     "metadata": {},
     "output_type": "execute_result"
    }
   ],
   "source": [
    "prices = data.iloc[:, 1].values\n",
    "prices"
   ]
  },
  {
   "cell_type": "code",
   "execution_count": 152,
   "metadata": {
    "collapsed": true
   },
   "outputs": [],
   "source": [
    "X_train, X_test, y_train, y_test = train_test_split(dates, prices, test_size=0.2)"
   ]
  },
  {
   "cell_type": "code",
   "execution_count": 153,
   "metadata": {
    "collapsed": true
   },
   "outputs": [],
   "source": [
    "lin_mod = LinearRegression()"
   ]
  },
  {
   "cell_type": "code",
   "execution_count": 154,
   "metadata": {},
   "outputs": [
    {
     "data": {
      "text/plain": [
       "LinearRegression(copy_X=True, fit_intercept=True, n_jobs=1, normalize=False)"
      ]
     },
     "execution_count": 154,
     "metadata": {},
     "output_type": "execute_result"
    }
   ],
   "source": [
    "lin_mod.fit(X_train.reshape(-1, 1) , y_train)"
   ]
  },
  {
   "cell_type": "code",
   "execution_count": 155,
   "metadata": {},
   "outputs": [
    {
     "data": {
      "text/plain": [
       "array([2225.80812121, 2037.39172651, 2414.22451591, 1848.97533182,\n",
       "       2037.39172651, 2225.80812121, 1660.55893712, 1660.55893712,\n",
       "       1660.55893712, 1472.14254242, 1848.97533182, 2037.39172651,\n",
       "       1660.55893712, 1660.55893712, 2225.80812121, 2414.22451591,\n",
       "       1848.97533182, 2225.80812121, 1848.97533182, 1660.55893712,\n",
       "       2225.80812121, 1848.97533182, 1472.14254242, 1848.97533182,\n",
       "       2414.22451591, 1848.97533182, 2037.39172651, 1660.55893712,\n",
       "       2225.80812121, 2225.80812121, 2414.22451591, 1848.97533182,\n",
       "       2225.80812121, 2414.22451591, 2037.39172651, 1848.97533182,\n",
       "       1660.55893712, 1848.97533182, 2225.80812121, 1660.55893712,\n",
       "       2225.80812121, 1660.55893712, 1848.97533182, 2225.80812121,\n",
       "       2037.39172651, 2225.80812121, 1848.97533182, 2225.80812121,\n",
       "       2225.80812121, 1848.97533182, 1848.97533182, 1660.55893712,\n",
       "       1472.14254242, 1660.55893712, 2225.80812121, 2037.39172651,\n",
       "       1472.14254242, 1660.55893712, 2037.39172651, 2225.80812121,\n",
       "       1848.97533182, 2225.80812121, 1848.97533182, 2414.22451591,\n",
       "       2037.39172651, 1660.55893712, 2225.80812121, 1848.97533182,\n",
       "       2225.80812121, 2037.39172651, 1660.55893712, 2414.22451591,\n",
       "       1848.97533182, 1660.55893712, 1472.14254242, 1472.14254242,\n",
       "       2414.22451591, 1660.55893712, 1660.55893712, 1660.55893712,\n",
       "       2225.80812121, 2225.80812121, 1660.55893712, 2225.80812121,\n",
       "       2225.80812121, 2225.80812121, 2037.39172651, 1848.97533182,\n",
       "       1660.55893712, 1472.14254242, 1660.55893712, 1472.14254242,\n",
       "       1848.97533182, 1848.97533182, 2414.22451591, 2037.39172651,\n",
       "       2225.80812121, 2225.80812121, 1472.14254242, 2414.22451591,\n",
       "       1660.55893712, 1660.55893712, 2037.39172651, 2037.39172651,\n",
       "       2037.39172651, 2037.39172651, 1848.97533182, 2037.39172651,\n",
       "       2037.39172651, 2225.80812121, 1472.14254242, 2225.80812121,\n",
       "       2225.80812121, 2037.39172651, 2225.80812121, 1660.55893712,\n",
       "       1660.55893712, 2414.22451591, 2225.80812121, 2037.39172651,\n",
       "       2414.22451591, 2037.39172651, 2037.39172651, 2225.80812121,\n",
       "       2225.80812121, 2225.80812121, 1848.97533182, 1848.97533182,\n",
       "       1472.14254242, 2037.39172651, 2225.80812121, 2037.39172651,\n",
       "       1848.97533182, 1472.14254242, 2225.80812121, 2037.39172651,\n",
       "       1660.55893712, 1848.97533182, 1472.14254242, 1472.14254242,\n",
       "       2414.22451591, 2037.39172651, 1848.97533182, 1660.55893712,\n",
       "       1660.55893712, 1660.55893712, 1472.14254242, 2225.80812121,\n",
       "       1660.55893712, 1660.55893712, 1848.97533182, 2037.39172651,\n",
       "       2225.80812121, 1660.55893712, 2037.39172651, 1660.55893712,\n",
       "       2037.39172651, 2037.39172651, 2225.80812121, 1472.14254242,\n",
       "       2037.39172651, 1660.55893712, 1660.55893712, 2414.22451591,\n",
       "       2225.80812121, 2414.22451591, 2037.39172651, 1472.14254242,\n",
       "       2037.39172651, 2037.39172651, 1660.55893712, 2037.39172651,\n",
       "       1848.97533182, 2414.22451591, 2037.39172651, 1848.97533182,\n",
       "       2225.80812121, 1848.97533182, 1848.97533182, 2414.22451591,\n",
       "       2037.39172651, 1848.97533182, 2225.80812121, 2225.80812121,\n",
       "       1848.97533182, 1472.14254242, 2225.80812121, 1660.55893712,\n",
       "       1660.55893712, 1848.97533182, 2225.80812121, 1472.14254242,\n",
       "       2037.39172651, 2225.80812121, 2037.39172651, 1660.55893712,\n",
       "       1472.14254242, 2414.22451591, 1660.55893712, 1848.97533182,\n",
       "       1472.14254242, 2225.80812121, 1472.14254242, 1660.55893712,\n",
       "       1660.55893712, 2037.39172651, 2037.39172651, 2414.22451591,\n",
       "       2225.80812121, 2225.80812121, 1848.97533182, 2414.22451591,\n",
       "       2225.80812121, 1848.97533182, 2414.22451591, 2225.80812121,\n",
       "       1660.55893712, 1472.14254242, 2414.22451591, 1660.55893712,\n",
       "       2225.80812121, 1848.97533182, 2037.39172651, 1472.14254242,\n",
       "       1660.55893712, 2037.39172651, 1848.97533182, 2037.39172651,\n",
       "       2037.39172651, 1472.14254242, 2225.80812121, 2225.80812121,\n",
       "       1660.55893712, 2414.22451591, 2037.39172651, 2225.80812121,\n",
       "       2037.39172651, 2037.39172651, 1660.55893712, 2037.39172651,\n",
       "       2414.22451591, 2225.80812121, 2037.39172651, 2037.39172651,\n",
       "       2225.80812121, 2037.39172651, 1472.14254242, 2225.80812121,\n",
       "       2037.39172651, 1848.97533182, 2225.80812121, 1848.97533182,\n",
       "       2225.80812121, 2037.39172651, 2225.80812121, 2037.39172651,\n",
       "       2225.80812121, 2037.39172651, 2037.39172651, 1848.97533182,\n",
       "       2037.39172651, 2414.22451591, 1472.14254242, 1848.97533182,\n",
       "       1848.97533182, 1848.97533182, 2037.39172651, 1848.97533182,\n",
       "       2225.80812121, 2037.39172651, 1472.14254242, 1472.14254242,\n",
       "       2037.39172651, 2037.39172651, 2037.39172651, 1472.14254242,\n",
       "       2037.39172651, 2225.80812121, 1660.55893712, 2037.39172651,\n",
       "       2037.39172651, 2225.80812121, 2225.80812121, 1848.97533182,\n",
       "       1848.97533182, 1848.97533182, 1660.55893712, 2225.80812121,\n",
       "       1660.55893712, 2037.39172651, 2225.80812121, 1848.97533182,\n",
       "       2225.80812121, 1660.55893712, 1660.55893712, 1660.55893712,\n",
       "       2037.39172651, 1660.55893712, 1660.55893712, 1848.97533182,\n",
       "       1848.97533182, 1848.97533182, 2037.39172651, 1472.14254242,\n",
       "       1660.55893712, 1660.55893712, 1660.55893712, 1472.14254242,\n",
       "       1660.55893712, 2037.39172651, 1848.97533182, 2225.80812121,\n",
       "       1660.55893712, 2414.22451591, 2414.22451591, 2225.80812121,\n",
       "       2414.22451591, 2037.39172651, 2225.80812121, 2225.80812121,\n",
       "       2225.80812121, 2225.80812121, 2037.39172651, 2037.39172651,\n",
       "       1660.55893712, 2414.22451591, 2414.22451591, 2225.80812121,\n",
       "       1660.55893712, 1660.55893712, 1660.55893712, 1660.55893712,\n",
       "       1660.55893712, 2225.80812121, 1848.97533182, 2225.80812121,\n",
       "       2225.80812121, 2225.80812121, 2037.39172651, 1848.97533182,\n",
       "       2037.39172651, 1472.14254242, 2037.39172651, 1848.97533182,\n",
       "       1472.14254242, 2225.80812121, 1848.97533182, 1848.97533182,\n",
       "       1472.14254242, 1848.97533182, 2037.39172651, 2037.39172651,\n",
       "       2037.39172651, 1848.97533182, 2225.80812121, 1472.14254242,\n",
       "       1660.55893712, 1472.14254242, 2037.39172651, 2037.39172651,\n",
       "       1660.55893712, 2414.22451591, 2414.22451591, 1848.97533182,\n",
       "       2037.39172651, 1848.97533182, 1660.55893712, 1660.55893712,\n",
       "       1848.97533182, 1660.55893712, 1848.97533182, 2037.39172651,\n",
       "       2037.39172651, 2037.39172651, 1472.14254242, 2037.39172651,\n",
       "       2225.80812121, 1660.55893712, 1848.97533182, 2225.80812121,\n",
       "       1848.97533182, 2037.39172651, 2225.80812121, 1848.97533182,\n",
       "       1660.55893712, 1472.14254242, 1848.97533182, 1660.55893712,\n",
       "       1848.97533182, 1848.97533182, 2037.39172651, 2225.80812121,\n",
       "       1660.55893712, 1848.97533182, 1660.55893712, 2414.22451591,\n",
       "       2037.39172651, 1472.14254242, 2414.22451591, 2037.39172651,\n",
       "       2225.80812121, 2037.39172651, 1660.55893712, 2225.80812121,\n",
       "       1848.97533182, 1848.97533182, 2414.22451591, 2037.39172651,\n",
       "       2225.80812121, 1472.14254242, 1660.55893712, 2037.39172651,\n",
       "       1848.97533182, 1660.55893712, 2037.39172651, 1472.14254242,\n",
       "       2225.80812121, 2225.80812121, 2225.80812121, 1848.97533182,\n",
       "       1660.55893712, 2037.39172651, 1472.14254242, 1660.55893712,\n",
       "       1848.97533182, 1848.97533182, 1848.97533182, 2225.80812121,\n",
       "       2037.39172651, 1660.55893712, 2225.80812121, 1848.97533182,\n",
       "       2037.39172651, 2037.39172651, 2037.39172651, 2037.39172651,\n",
       "       1472.14254242, 2037.39172651, 2225.80812121, 1848.97533182,\n",
       "       1848.97533182, 2225.80812121, 1472.14254242, 2037.39172651,\n",
       "       2225.80812121, 2225.80812121, 2225.80812121, 2037.39172651,\n",
       "       2414.22451591, 1848.97533182, 1660.55893712, 1660.55893712,\n",
       "       2225.80812121, 2225.80812121, 2037.39172651, 1660.55893712,\n",
       "       2037.39172651, 2037.39172651, 1660.55893712, 1660.55893712,\n",
       "       1660.55893712, 2225.80812121, 2037.39172651, 1848.97533182,\n",
       "       2037.39172651, 2225.80812121, 2225.80812121, 2037.39172651,\n",
       "       2037.39172651, 2037.39172651, 2414.22451591, 2037.39172651,\n",
       "       1660.55893712, 1660.55893712, 1660.55893712, 2414.22451591,\n",
       "       2225.80812121, 2414.22451591, 1660.55893712, 2225.80812121,\n",
       "       1848.97533182, 2225.80812121, 2037.39172651, 2037.39172651,\n",
       "       1472.14254242, 2225.80812121, 2037.39172651, 2037.39172651,\n",
       "       1660.55893712, 2037.39172651, 2414.22451591, 2414.22451591,\n",
       "       2414.22451591, 1660.55893712, 2225.80812121, 2037.39172651,\n",
       "       2037.39172651, 1848.97533182, 2037.39172651, 1472.14254242,\n",
       "       2037.39172651, 1660.55893712, 2037.39172651, 1660.55893712,\n",
       "       1472.14254242, 2414.22451591, 2225.80812121, 1660.55893712,\n",
       "       2037.39172651, 1660.55893712, 1660.55893712, 2225.80812121,\n",
       "       2414.22451591, 2037.39172651, 1660.55893712, 2037.39172651,\n",
       "       2037.39172651, 1472.14254242, 2414.22451591, 1660.55893712,\n",
       "       1848.97533182, 2414.22451591, 1660.55893712, 1472.14254242,\n",
       "       2037.39172651, 2414.22451591, 2037.39172651, 2225.80812121,\n",
       "       2037.39172651, 2225.80812121, 1472.14254242, 1848.97533182,\n",
       "       1660.55893712, 2037.39172651, 2414.22451591, 1848.97533182,\n",
       "       1848.97533182, 1660.55893712, 1848.97533182, 2037.39172651,\n",
       "       1848.97533182, 1848.97533182, 2037.39172651, 2414.22451591,\n",
       "       2037.39172651, 2225.80812121, 2225.80812121, 1472.14254242,\n",
       "       2037.39172651, 1660.55893712, 1848.97533182, 1472.14254242,\n",
       "       2414.22451591, 2225.80812121, 2037.39172651, 1472.14254242,\n",
       "       2037.39172651, 1660.55893712, 2225.80812121, 2414.22451591,\n",
       "       2225.80812121, 2225.80812121, 1660.55893712, 2037.39172651,\n",
       "       1848.97533182, 1472.14254242, 1660.55893712, 1660.55893712,\n",
       "       1660.55893712, 2225.80812121, 1848.97533182, 1660.55893712,\n",
       "       2225.80812121, 2037.39172651, 1472.14254242, 1848.97533182,\n",
       "       2037.39172651, 2225.80812121, 1848.97533182, 2225.80812121,\n",
       "       1660.55893712, 2037.39172651, 2225.80812121, 1848.97533182,\n",
       "       1472.14254242, 2414.22451591, 1472.14254242, 2225.80812121,\n",
       "       1660.55893712, 1848.97533182, 1660.55893712, 1660.55893712,\n",
       "       1848.97533182, 1472.14254242, 2225.80812121, 1472.14254242,\n",
       "       2414.22451591, 1472.14254242, 2225.80812121, 2225.80812121,\n",
       "       2225.80812121, 1660.55893712, 2225.80812121, 2414.22451591,\n",
       "       2414.22451591, 1660.55893712, 2037.39172651, 1472.14254242,\n",
       "       2037.39172651, 1848.97533182, 1660.55893712, 1472.14254242,\n",
       "       1472.14254242, 2414.22451591, 2037.39172651, 1848.97533182,\n",
       "       2037.39172651, 2414.22451591, 2225.80812121, 2414.22451591,\n",
       "       2225.80812121, 2414.22451591, 1848.97533182, 1472.14254242,\n",
       "       2225.80812121, 2225.80812121, 1848.97533182, 1660.55893712,\n",
       "       2037.39172651, 1848.97533182, 1472.14254242, 1660.55893712,\n",
       "       1660.55893712, 1848.97533182, 2225.80812121, 1660.55893712,\n",
       "       2037.39172651, 1660.55893712, 2037.39172651, 1848.97533182,\n",
       "       2037.39172651, 1848.97533182, 2225.80812121, 2037.39172651,\n",
       "       1660.55893712, 1848.97533182, 1660.55893712, 1848.97533182,\n",
       "       2037.39172651, 2037.39172651, 1660.55893712, 2225.80812121,\n",
       "       1660.55893712, 2225.80812121, 2037.39172651, 2037.39172651,\n",
       "       2225.80812121, 2414.22451591, 1848.97533182, 2037.39172651,\n",
       "       1660.55893712, 1660.55893712, 2225.80812121, 2225.80812121,\n",
       "       2414.22451591, 1660.55893712, 2414.22451591, 2225.80812121,\n",
       "       2037.39172651, 1472.14254242, 2037.39172651, 1848.97533182,\n",
       "       2037.39172651, 2037.39172651, 2225.80812121, 1660.55893712,\n",
       "       1472.14254242, 2037.39172651, 2037.39172651, 1472.14254242,\n",
       "       1848.97533182, 2414.22451591, 1660.55893712, 1660.55893712,\n",
       "       1848.97533182, 1660.55893712, 2225.80812121, 1660.55893712,\n",
       "       2037.39172651, 1660.55893712, 2037.39172651, 2225.80812121,\n",
       "       1848.97533182, 1848.97533182, 1660.55893712, 2225.80812121,\n",
       "       2037.39172651, 2037.39172651, 2414.22451591, 2037.39172651,\n",
       "       1660.55893712, 2414.22451591, 2414.22451591, 2225.80812121,\n",
       "       1660.55893712, 2037.39172651, 2225.80812121, 2037.39172651,\n",
       "       2037.39172651, 1472.14254242, 1660.55893712, 1472.14254242,\n",
       "       1848.97533182, 1848.97533182, 2037.39172651, 2225.80812121,\n",
       "       2225.80812121, 2225.80812121, 1660.55893712, 2037.39172651,\n",
       "       1848.97533182, 1660.55893712, 2037.39172651, 2037.39172651,\n",
       "       1660.55893712, 1848.97533182, 2225.80812121, 1848.97533182,\n",
       "       2414.22451591, 2037.39172651, 2037.39172651, 1848.97533182,\n",
       "       2037.39172651, 2414.22451591, 1472.14254242, 1660.55893712,\n",
       "       2414.22451591, 2225.80812121, 2037.39172651, 2037.39172651,\n",
       "       2225.80812121, 2225.80812121, 2225.80812121, 1848.97533182,\n",
       "       2037.39172651, 2225.80812121, 2037.39172651, 2037.39172651,\n",
       "       1848.97533182, 2037.39172651, 1848.97533182, 2225.80812121,\n",
       "       2225.80812121, 2037.39172651, 1472.14254242, 2225.80812121,\n",
       "       1660.55893712, 2225.80812121, 2225.80812121, 1472.14254242,\n",
       "       2225.80812121, 1472.14254242, 2037.39172651, 1660.55893712,\n",
       "       2225.80812121, 1660.55893712, 2414.22451591, 2037.39172651,\n",
       "       2037.39172651, 2037.39172651, 2225.80812121, 2037.39172651,\n",
       "       1848.97533182, 1472.14254242, 2037.39172651, 1848.97533182,\n",
       "       1660.55893712, 1848.97533182, 1848.97533182, 1848.97533182,\n",
       "       1848.97533182, 1848.97533182, 1660.55893712, 2225.80812121,\n",
       "       2037.39172651, 1472.14254242, 2414.22451591, 2225.80812121,\n",
       "       2414.22451591, 2225.80812121, 1848.97533182, 2037.39172651,\n",
       "       1660.55893712, 2037.39172651, 2414.22451591, 1660.55893712])"
      ]
     },
     "execution_count": 155,
     "metadata": {},
     "output_type": "execute_result"
    }
   ],
   "source": [
    "lin_mod.predict(X_test.reshape(-1, 1))"
   ]
  },
  {
   "cell_type": "code",
   "execution_count": 156,
   "metadata": {},
   "outputs": [
    {
     "data": {
      "text/plain": [
       "array([2036.64735843, 1771.11255368, 2671.62189154, 2042.41985419,\n",
       "       2007.78487966, 2740.89184061, 1488.26026166, 1505.57774893,\n",
       "       1649.89014281, 1395.90032957, 1644.11764706, 1672.98012584,\n",
       "       1361.26535504, 1609.48267253, 2152.09727354, 2631.21442125,\n",
       "       1707.61510037, 2111.68980326, 2094.37231599, 1494.03275742,\n",
       "       2706.25686607, 1574.84769799, 1332.40287626, 1869.24498152,\n",
       "       2192.50474383, 1597.93768101, 1794.2025367 , 1828.83751124,\n",
       "       3012.19914112, 2048.19234995, 2642.75941276, 1742.2500749 ,\n",
       "       2175.18725657, 2746.66433636, 2007.78487966, 1499.80525317,\n",
       "       1978.92240088, 1765.34005792, 2579.26195945, 1621.02766404,\n",
       "       2042.41985419, 1597.93768101, 1586.3926895 , 2567.71696794,\n",
       "       1632.57265555, 1944.28742635, 1511.35024468, 2007.78487966,\n",
       "       1967.37740937, 1626.80015979, 1690.2976131 , 1401.67282533,\n",
       "       1644.11764706, 1621.02766404, 2180.95975232, 2429.17706981,\n",
       "       1332.40287626, 1597.93768101, 1921.19744332, 2175.18725657,\n",
       "       1661.43513433, 1955.83241786, 1875.01747728, 2002.0123839 ,\n",
       "       2267.54718865, 1817.29251972, 2105.9173075 , 2105.9173075 ,\n",
       "       2180.95975232, 2175.18725657, 1661.43513433, 2504.21951463,\n",
       "       1638.3451513 , 1505.57774893, 1511.35024468, 1903.87995606,\n",
       "       2579.26195945, 1955.83241786, 1684.52511735, 2059.73734146,\n",
       "       2313.7271547 , 2157.8697693 , 1967.37740937, 2053.9648457 ,\n",
       "       2354.13462499, 2157.8697693 , 2342.58963348, 1846.1549985 ,\n",
       "       1661.43513433, 1349.72036353, 1465.17027864, 1921.19744332,\n",
       "       2100.14481174, 1990.46739239, 2665.84939579, 1569.07520224,\n",
       "       2002.0123839 , 2082.82732448, 1355.49285928, 2048.19234995,\n",
       "       1528.66773195, 1563.30270648, 2319.49965045, 1990.46739239,\n",
       "       1609.48267253, 2002.0123839 , 1799.97503246, 1597.93768101,\n",
       "       2204.04973534, 2925.61170478, 1851.92749426, 2221.36722261,\n",
       "       2088.59982023, 2377.22460801, 2221.36722261, 1788.43004095,\n",
       "       1869.24498152, 2105.9173075 , 2273.31968441, 2377.22460801,\n",
       "       2735.11934485, 1950.0599221 , 1932.74243483, 2221.36722261,\n",
       "       2890.97673025, 1984.69489663, 1505.57774893, 1724.93258764,\n",
       "       1875.01747728, 1569.07520224, 2279.09218017, 2007.78487966,\n",
       "       2002.0123839 , 1880.78997304, 2769.75431938, 1753.79506641,\n",
       "       1678.75262159, 2059.73734146, 1898.1074603 , 1424.76280835,\n",
       "       2752.43683212, 2302.18216319, 1586.3926895 , 1517.12274044,\n",
       "       1505.57774893, 1690.2976131 , 1788.43004095, 2521.5370019 ,\n",
       "       1857.69999001, 1349.72036353, 1615.25516828, 1655.66263857,\n",
       "       2007.78487966, 1667.20763008, 1759.56756217, 1771.11255368,\n",
       "       2007.78487966, 1794.2025367 , 1990.46739239, 1517.12274044,\n",
       "       1696.07010886, 1580.62019375, 1701.84260461, 2232.91221412,\n",
       "       1990.46739239, 2613.89693399, 2313.7271547 , 1857.69999001,\n",
       "       1672.98012584, 2423.40457405, 2036.64735843, 2036.64735843,\n",
       "       1644.11764706, 2180.95975232, 2048.19234995, 1603.71017677,\n",
       "       2290.63717168, 1569.07520224, 1892.33496455, 2394.54209528,\n",
       "       1973.14990512, 1828.83751124, 2434.94956556, 2307.95465894,\n",
       "       1782.65754519, 1326.63038051, 2723.57435334, 1719.16009188,\n",
       "       1828.83751124, 1817.29251972, 2307.95465894, 1482.4877659 ,\n",
       "       1944.28742635, 2509.99201039, 1863.47248577, 1672.98012584,\n",
       "       1713.38759613, 2256.00219714, 1696.07010886, 1609.48267253,\n",
       "       1459.39778288, 2896.74922601, 1886.56246879, 1597.93768101,\n",
       "       1851.92749426, 2336.81713772, 1863.47248577, 2452.26705283,\n",
       "       1932.74243483, 2486.90202736, 1915.42494757, 2100.14481174,\n",
       "       2354.13462499, 1996.23988815, 2717.80185759, 2394.54209528,\n",
       "       1753.79506641, 1638.3451513 , 2342.58963348, 1690.2976131 ,\n",
       "       1996.23988815, 1609.48267253, 2002.0123839 , 1909.65245181,\n",
       "       1644.11764706, 1811.52002397, 2013.55737541, 1684.52511735,\n",
       "       1540.21272346, 1545.98521922, 2954.47418356, 2354.13462499,\n",
       "       1586.3926895 , 2048.19234995, 1788.43004095, 2221.36722261,\n",
       "       1753.79506641, 1828.83751124, 1545.98521922, 1678.75262159,\n",
       "       1984.69489663, 2827.47927694, 1984.69489663, 1557.53021073,\n",
       "       2302.18216319, 1782.65754519, 1932.74243483, 2117.46229901,\n",
       "       1938.51493059, 1644.11764706, 2152.09727354, 1626.80015979,\n",
       "       1950.0599221 , 1886.56246879, 2273.31968441, 2059.73734146,\n",
       "       2885.2042345 , 1996.23988815, 1817.29251972, 1592.16518526,\n",
       "       1638.3451513 , 1950.0599221 , 1557.53021073, 1817.29251972,\n",
       "       1788.43004095, 1621.02766404, 2296.40966743, 1978.92240088,\n",
       "       2296.40966743, 1788.43004095, 1638.3451513 , 1228.49795266,\n",
       "       2146.32477779, 2117.46229901, 2152.09727354, 1805.74752821,\n",
       "       1644.11764706, 2279.09218017, 1701.84260461, 2440.72206132,\n",
       "       1805.74752821, 2175.18725657, 2977.56416658, 1788.43004095,\n",
       "       2025.10236692, 1851.92749426, 1540.21272346, 2307.95465894,\n",
       "       1788.43004095, 2013.55737541, 2059.73734146, 1823.06501548,\n",
       "       2325.27214621, 1586.3926895 , 1967.37740937, 1545.98521922,\n",
       "       1996.23988815, 1742.2500749 , 1875.01747728, 1834.61000699,\n",
       "       2111.68980326, 1626.80015979, 1955.83241786, 1372.81034655,\n",
       "       1540.21272346, 1395.90032957, 1846.1549985 , 1378.58284231,\n",
       "       1511.35024468, 1840.38250275, 1592.16518526, 2192.50474383,\n",
       "       1834.61000699, 2180.95975232, 2065.50983721, 2221.36722261,\n",
       "       1990.46739239, 1817.29251972, 2180.95975232, 2971.79167083,\n",
       "       2313.7271547 , 2250.22970139, 1799.97503246, 1938.51493059,\n",
       "       2002.0123839 , 1944.28742635, 1903.87995606, 2348.36212923,\n",
       "       1430.5353041 , 1811.52002397, 2019.32987117, 1967.37740937,\n",
       "       2007.78487966, 2169.41476081, 1915.42494757, 2284.86467592,\n",
       "       2284.86467592, 2111.68980326, 2382.99710377, 1742.2500749 ,\n",
       "       1678.75262159, 1551.75771497, 2140.55228203, 1811.52002397,\n",
       "       1932.74243483, 2250.22970139, 1782.65754519, 1823.06501548,\n",
       "       1609.48267253, 1724.93258764, 2417.6320783 , 1736.47757915,\n",
       "       2053.9648457 , 1713.38759613, 2163.64226506, 1655.66263857,\n",
       "       1499.80525317, 1892.33496455, 2117.46229901, 2377.22460801,\n",
       "       1569.07520224, 2636.98691701, 2261.7746929 , 1724.93258764,\n",
       "       1759.56756217, 1707.61510037, 1563.30270648, 1638.3451513 ,\n",
       "       1759.56756217, 1678.75262159, 1771.11255368, 2307.95465894,\n",
       "       1886.56246879, 2007.78487966, 1857.69999001, 2025.10236692,\n",
       "       2919.83920903, 1736.47757915, 1984.69489663, 2134.77978628,\n",
       "       1678.75262159, 1961.60491361, 2994.88165385, 2071.28233297,\n",
       "       1592.16518526, 1915.42494757, 1782.65754519, 2059.73734146,\n",
       "       2094.37231599, 1701.84260461, 1586.3926895 , 2204.04973534,\n",
       "       1534.4402277 , 1799.97503246, 1730.70508339, 2036.64735843,\n",
       "       1875.01747728, 1875.01747728, 1892.33496455, 1621.02766404,\n",
       "       2325.27214621, 1903.87995606, 1719.16009188, 2221.36722261,\n",
       "       1950.0599221 , 1603.71017677, 2065.50983721, 1603.71017677,\n",
       "       2815.93428543, 1713.38759613, 1771.11255368, 1771.11255368,\n",
       "       1805.74752821, 1343.94786777, 1944.28742635, 1245.81543993,\n",
       "       2180.95975232, 2192.50474383, 2856.34175572, 1655.66263857,\n",
       "       1967.37740937, 1817.29251972, 1424.76280835, 1667.20763008,\n",
       "       2030.87486268, 1678.75262159, 1684.52511735, 2186.73224808,\n",
       "       2215.59472686, 1973.14990512, 2319.49965045, 1961.60491361,\n",
       "       2394.54209528, 1701.84260461, 1678.75262159, 1649.89014281,\n",
       "       1886.56246879, 1649.89014281, 2729.3468491 , 1632.57265555,\n",
       "       2100.14481174, 2002.0123839 , 1268.90542295, 2042.41985419,\n",
       "       2706.25686607, 2700.48437032, 2712.02936183, 2002.0123839 ,\n",
       "       2729.3468491 , 1690.2976131 , 2036.64735843, 1707.61510037,\n",
       "       2867.88674723, 2908.29421752, 2406.08708679, 1355.49285928,\n",
       "       1892.33496455, 1794.2025367 , 1984.69489663, 1684.52511735,\n",
       "       1511.35024468, 2504.21951463, 1961.60491361, 1909.65245181,\n",
       "       2371.45211225, 2256.00219714, 2140.55228203, 2388.76959952,\n",
       "       2180.95975232, 1903.87995606, 2279.09218017, 1909.65245181,\n",
       "       1707.61510037, 1978.92240088, 1528.66773195, 1932.74243483,\n",
       "       2631.21442125, 2059.73734146, 1938.51493059, 2781.2993109 ,\n",
       "       2053.9648457 , 2169.41476081, 2371.45211225, 1961.60491361,\n",
       "       1355.49285928, 2388.76959952, 1794.2025367 , 2429.17706981,\n",
       "       2071.28233297, 1978.92240088, 2186.73224808, 2059.73734146,\n",
       "       2250.22970139, 1840.38250275, 2175.18725657, 1973.14990512,\n",
       "       2411.85958254, 1869.24498152, 1984.69489663, 1384.35533806,\n",
       "       2053.9648457 , 1343.94786777, 2429.17706981, 1921.19744332,\n",
       "       1413.21781684, 2423.40457405, 2642.75941276, 1459.39778288,\n",
       "       2232.91221412, 1973.14990512, 1384.35533806, 2325.27214621,\n",
       "       2550.39948068, 2406.08708679, 1522.89523619, 1771.11255368,\n",
       "       1540.21272346, 1280.45041446, 2296.40966743, 1973.14990512,\n",
       "       1967.37740937, 2071.28233297, 1996.23988815, 1782.65754519,\n",
       "       1748.02257066, 2077.05482872, 2007.78487966, 2100.14481174,\n",
       "       1771.11255368, 2550.39948068, 1892.33496455, 1765.34005792,\n",
       "       1592.16518526, 2077.05482872, 1932.74243483, 1898.1074603 ,\n",
       "       1846.1549985 , 1863.47248577, 1869.24498152, 1834.61000699,\n",
       "       1499.80525317, 1742.2500749 , 1984.69489663, 2394.54209528,\n",
       "       2013.55737541, 2215.59472686, 2215.59472686, 1361.26535504,\n",
       "       2048.19234995, 1482.4877659 , 1840.38250275, 1442.08029562,\n",
       "       2307.95465894, 2636.98691701, 1903.87995606, 1436.30779986,\n",
       "       2025.10236692, 1851.92749426, 2157.8697693 , 2388.76959952,\n",
       "       2458.03954859, 2914.06671327, 1713.38759613, 1984.69489663,\n",
       "       1672.98012584, 1921.19744332, 1499.80525317, 1615.25516828,\n",
       "       1707.61510037, 2129.00729052, 1586.3926895 , 1701.84260461,\n",
       "       2221.36722261, 1574.84769799, 1240.04294417, 1921.19744332,\n",
       "       1644.11764706, 2377.22460801, 1898.1074603 , 2169.41476081,\n",
       "       1574.84769799, 1776.88504944, 2152.09727354, 1569.07520224,\n",
       "       1886.56246879, 2215.59472686, 1361.26535504, 2429.17706981,\n",
       "       1540.21272346, 1909.65245181, 1707.61510037, 1603.71017677,\n",
       "       1615.25516828, 1892.33496455, 2966.01917507, 1378.58284231,\n",
       "       2002.0123839 , 1240.04294417, 2215.59472686, 2486.90202736,\n",
       "       1996.23988815, 1638.3451513 , 2873.65924298, 2088.59982023,\n",
       "       2030.87486268, 1950.0599221 , 2048.19234995, 1909.65245181,\n",
       "       1563.30270648, 1499.80525317, 1534.4402277 , 1817.29251972,\n",
       "       1338.17537202, 2382.99710377, 1621.02766404, 1534.4402277 ,\n",
       "       2359.90712074, 2146.32477779, 2134.77978628, 2677.3943873 ,\n",
       "       2163.64226506, 2446.49455708, 1597.93768101, 1626.80015979,\n",
       "       2134.77978628, 2180.95975232, 1719.16009188, 1488.26026166,\n",
       "       1967.37740937, 1684.52511735, 1280.45041446, 1569.07520224,\n",
       "       1799.97503246, 1811.52002397, 2169.41476081, 1724.93258764,\n",
       "       1973.14990512, 1511.35024468, 1950.0599221 , 1592.16518526,\n",
       "       1615.25516828, 2019.32987117, 2683.16688305, 1984.69489663,\n",
       "       1655.66263857, 1875.01747728, 2019.32987117, 1771.11255368,\n",
       "       2371.45211225, 1788.43004095, 1453.62528713, 2914.06671327,\n",
       "       1482.4877659 , 2867.88674723, 2440.72206132, 1788.43004095,\n",
       "       2862.11425147, 2036.64735843, 1603.71017677, 2065.50983721,\n",
       "       1597.93768101, 1395.90032957, 1950.0599221 , 2342.58963348,\n",
       "       1961.60491361, 1638.3451513 , 2429.17706981, 2775.52681514,\n",
       "       1823.06501548, 1534.4402277 , 2290.63717168, 1846.1549985 ,\n",
       "       1603.71017677, 1609.48267253, 1950.0599221 , 1655.66263857,\n",
       "       1880.78997304, 2013.55737541, 1990.46739239, 1707.61510037,\n",
       "       1811.52002397, 1961.60491361, 1696.07010886, 1961.60491361,\n",
       "       2053.9648457 , 1846.1549985 , 2250.22970139, 1678.75262159,\n",
       "       1563.30270648, 1875.01747728, 2094.37231599, 2406.08708679,\n",
       "       1603.71017677, 1938.51493059, 1863.47248577, 2175.18725657,\n",
       "       1621.02766404, 1603.71017677, 1990.46739239, 1863.47248577,\n",
       "       1418.99031259, 2700.48437032, 2544.62698492, 2094.37231599,\n",
       "       1528.66773195, 1765.34005792, 2700.48437032, 1569.07520224,\n",
       "       2209.8222311 , 1309.31289324, 1592.16518526, 1343.94786777,\n",
       "       1638.3451513 , 1563.30270648, 1996.23988815, 2175.18725657,\n",
       "       2296.40966743, 1932.74243483, 1505.57774893, 1794.2025367 ,\n",
       "       1851.92749426, 1499.80525317, 1592.16518526, 2429.17706981,\n",
       "       1713.38759613, 1592.16518526, 2157.8697693 , 1759.56756217,\n",
       "       1961.60491361, 2290.63717168, 2013.55737541, 1753.79506641,\n",
       "       1851.92749426, 2313.7271547 , 1563.30270648, 1719.16009188,\n",
       "       2613.89693399, 2492.67452312, 2019.32987117, 1592.16518526,\n",
       "       2244.45720563, 2198.27723959, 2400.31459103, 1574.84769799,\n",
       "       2030.87486268, 2238.68470988, 1990.46739239, 2025.10236692,\n",
       "       1586.3926895 , 2053.9648457 , 1823.06501548, 2769.75431938,\n",
       "       2157.8697693 , 2382.99710377, 1540.21272346, 1961.60491361,\n",
       "       2065.50983721, 2296.40966743, 2359.90712074, 1372.81034655,\n",
       "       2290.63717168, 1372.81034655, 1944.28742635, 1961.60491361,\n",
       "       2336.81713772, 1713.38759613, 2284.86467592, 2365.6796165 ,\n",
       "       2365.6796165 , 2180.95975232, 2169.41476081, 1828.83751124,\n",
       "       1586.3926895 , 1326.63038051, 2417.6320783 , 2065.50983721,\n",
       "       1349.72036353, 1690.2976131 , 1713.38759613, 1690.2976131 ,\n",
       "       1534.4402277 , 1494.03275742, 1355.49285928, 2209.8222311 ,\n",
       "       1794.2025367 , 1442.08029562, 2088.59982023, 2602.35194247,\n",
       "       1944.28742635, 2163.64226506, 1684.52511735, 1632.57265555,\n",
       "       1644.11764706, 1903.87995606, 2700.48437032, 1771.11255368])"
      ]
     },
     "execution_count": 156,
     "metadata": {},
     "output_type": "execute_result"
    }
   ],
   "source": [
    "y_test"
   ]
  },
  {
   "cell_type": "code",
   "execution_count": 157,
   "metadata": {},
   "outputs": [
    {
     "data": {
      "text/plain": [
       "0.4985132218411573"
      ]
     },
     "execution_count": 157,
     "metadata": {},
     "output_type": "execute_result"
    }
   ],
   "source": [
    "lin_mod.score(X_test.reshape(-1, 1), y_test)"
   ]
  },
  {
   "cell_type": "code",
   "execution_count": 158,
   "metadata": {},
   "outputs": [],
   "source": [
    "from sklearn.preprocessing import LabelEncoder\n",
    "lbl_X = LabelEncoder()\n",
    "Xenc = dates\n",
    "Xenc = lbl_X.fit_transform(Xenc)"
   ]
  },
  {
   "cell_type": "code",
   "execution_count": 159,
   "metadata": {},
   "outputs": [
    {
     "data": {
      "text/plain": [
       "array([0, 0, 0, ..., 5, 5, 5], dtype=int64)"
      ]
     },
     "execution_count": 159,
     "metadata": {},
     "output_type": "execute_result"
    }
   ],
   "source": [
    "Xenc"
   ]
  },
  {
   "cell_type": "code",
   "execution_count": 160,
   "metadata": {},
   "outputs": [],
   "source": [
    "from sklearn.preprocessing import OneHotEncoder\n",
    "onehot = OneHotEncoder(categorical_features = [0])\n",
    "Xenc = onehot.fit_transform(Xenc.reshape(-1, 1)).toarray()"
   ]
  },
  {
   "cell_type": "code",
   "execution_count": 161,
   "metadata": {},
   "outputs": [],
   "source": [
    "from sklearn.model_selection import train_test_split\n",
    "X_train, X_test, y_train, y_test = train_test_split(Xenc, y, test_size=0.2)"
   ]
  },
  {
   "cell_type": "code",
   "execution_count": 162,
   "metadata": {
    "collapsed": true
   },
   "outputs": [],
   "source": [
    "#feature scaling\n",
    "from sklearn.preprocessing import StandardScaler\n",
    "scale_X = StandardScaler()\n",
    "X_train = scale_X.fit_transform(X_train)\n",
    "X_test = scale_X.transform(X_test)"
   ]
  },
  {
   "cell_type": "code",
   "execution_count": 163,
   "metadata": {},
   "outputs": [
    {
     "data": {
      "text/plain": [
       "LinearRegression(copy_X=True, fit_intercept=True, n_jobs=1, normalize=False)"
      ]
     },
     "execution_count": 163,
     "metadata": {},
     "output_type": "execute_result"
    }
   ],
   "source": [
    "lin_reg = LinearRegression()\n",
    "lin_reg.fit(X_train, y_train)"
   ]
  },
  {
   "cell_type": "code",
   "execution_count": 164,
   "metadata": {},
   "outputs": [
    {
     "data": {
      "text/plain": [
       "array([2400.52042659, 1936.77042659, 1684.39542659, 1936.77042659,\n",
       "       1936.77042659, 1936.77042659, 2400.52042659, 2400.52042659,\n",
       "       2400.52042659, 1763.02042659, 1763.02042659, 1763.02042659,\n",
       "       1763.02042659, 1936.77042659, 2400.52042659, 2400.52042659,\n",
       "       1936.77042659, 1684.39542659, 2400.52042659, 1936.77042659,\n",
       "       1763.02042659, 1936.77042659, 1763.02042659, 1936.77042659,\n",
       "       1684.39542659, 2294.14542659, 1561.52042659, 1684.39542659,\n",
       "       2400.52042659, 1763.02042659, 1763.02042659, 2294.14542659,\n",
       "       1763.02042659, 1936.77042659, 1763.02042659, 1684.39542659,\n",
       "       1763.02042659, 1763.02042659, 2400.52042659, 1763.02042659,\n",
       "       1936.77042659, 1763.02042659, 1936.77042659, 1763.02042659,\n",
       "       1561.52042659, 2294.14542659, 1684.39542659, 1561.52042659,\n",
       "       1684.39542659, 2400.52042659, 1936.77042659, 1936.77042659,\n",
       "       2400.52042659, 1684.39542659, 1561.52042659, 2400.52042659,\n",
       "       1684.39542659, 2294.14542659, 1936.77042659, 1684.39542659,\n",
       "       2400.52042659, 1684.39542659, 2294.14542659, 1936.77042659,\n",
       "       1684.39542659, 1684.39542659, 1763.02042659, 2400.52042659,\n",
       "       2400.52042659, 1684.39542659, 1936.77042659, 1684.39542659,\n",
       "       1936.77042659, 2400.52042659, 1763.02042659, 1684.39542659,\n",
       "       1684.39542659, 1561.52042659, 2400.52042659, 1684.39542659,\n",
       "       2294.14542659, 2400.52042659, 1684.39542659, 1684.39542659,\n",
       "       2294.14542659, 1684.39542659, 1936.77042659, 2400.52042659,\n",
       "       2400.52042659, 1763.02042659, 2294.14542659, 1936.77042659,\n",
       "       1561.52042659, 2294.14542659, 1561.52042659, 1684.39542659,\n",
       "       2294.14542659, 1561.52042659, 1684.39542659, 1684.39542659,\n",
       "       2294.14542659, 2400.52042659, 1561.52042659, 2294.14542659,\n",
       "       1561.52042659, 1936.77042659, 1936.77042659, 1763.02042659,\n",
       "       2400.52042659, 1684.39542659, 1936.77042659, 1763.02042659,\n",
       "       2294.14542659, 1684.39542659, 2294.14542659, 2400.52042659,\n",
       "       2294.14542659, 2294.14542659, 2400.52042659, 1684.39542659,\n",
       "       1936.77042659, 1561.52042659, 2400.52042659, 1763.02042659,\n",
       "       1561.52042659, 1561.52042659, 2400.52042659, 1936.77042659,\n",
       "       2400.52042659, 1936.77042659, 2400.52042659, 1684.39542659,\n",
       "       2400.52042659, 1763.02042659, 1936.77042659, 1936.77042659,\n",
       "       1936.77042659, 1684.39542659, 1684.39542659, 1684.39542659,\n",
       "       2294.14542659, 1684.39542659, 1763.02042659, 1684.39542659,\n",
       "       1561.52042659, 1684.39542659, 1936.77042659, 1936.77042659,\n",
       "       1936.77042659, 2400.52042659, 2294.14542659, 1684.39542659,\n",
       "       1684.39542659, 1561.52042659, 1561.52042659, 1936.77042659,\n",
       "       2400.52042659, 2400.52042659, 1936.77042659, 1684.39542659,\n",
       "       1763.02042659, 1561.52042659, 1936.77042659, 2400.52042659,\n",
       "       2400.52042659, 1763.02042659, 1763.02042659, 1936.77042659,\n",
       "       1936.77042659, 1936.77042659, 1561.52042659, 1936.77042659,\n",
       "       1936.77042659, 1763.02042659, 2400.52042659, 2400.52042659,\n",
       "       1936.77042659, 1936.77042659, 2294.14542659, 1763.02042659,\n",
       "       1684.39542659, 1561.52042659, 1936.77042659, 1684.39542659,\n",
       "       2400.52042659, 1763.02042659, 1561.52042659, 1936.77042659,\n",
       "       1561.52042659, 1763.02042659, 2400.52042659, 1936.77042659,\n",
       "       2294.14542659, 1561.52042659, 1763.02042659, 1684.39542659,\n",
       "       1936.77042659, 1936.77042659, 1763.02042659, 2400.52042659,\n",
       "       2400.52042659, 2400.52042659, 1763.02042659, 1684.39542659,\n",
       "       1763.02042659, 1561.52042659, 1684.39542659, 1561.52042659,\n",
       "       1684.39542659, 2294.14542659, 1763.02042659, 1561.52042659,\n",
       "       2400.52042659, 1684.39542659, 2400.52042659, 1763.02042659,\n",
       "       1684.39542659, 2294.14542659, 1936.77042659, 1561.52042659,\n",
       "       1561.52042659, 1763.02042659, 1684.39542659, 2294.14542659,\n",
       "       1684.39542659, 1763.02042659, 1936.77042659, 1763.02042659,\n",
       "       2400.52042659, 1936.77042659, 1936.77042659, 2400.52042659,\n",
       "       1936.77042659, 2400.52042659, 1936.77042659, 1763.02042659,\n",
       "       2400.52042659, 1763.02042659, 2294.14542659, 2400.52042659,\n",
       "       1936.77042659, 1561.52042659, 1561.52042659, 1684.39542659,\n",
       "       1561.52042659, 1763.02042659, 1936.77042659, 1936.77042659,\n",
       "       1936.77042659, 1936.77042659, 2294.14542659, 1763.02042659,\n",
       "       1936.77042659, 2400.52042659, 2400.52042659, 1684.39542659,\n",
       "       1763.02042659, 1561.52042659, 1936.77042659, 1763.02042659,\n",
       "       1763.02042659, 1561.52042659, 1763.02042659, 2400.52042659,\n",
       "       1936.77042659, 2400.52042659, 1763.02042659, 2400.52042659,\n",
       "       2400.52042659, 2400.52042659, 1763.02042659, 2294.14542659,\n",
       "       1561.52042659, 2400.52042659, 2294.14542659, 1763.02042659,\n",
       "       2400.52042659, 2400.52042659, 1936.77042659, 2294.14542659,\n",
       "       1763.02042659, 1561.52042659, 2400.52042659, 2400.52042659,\n",
       "       1684.39542659, 2400.52042659, 1936.77042659, 1763.02042659,\n",
       "       1763.02042659, 2400.52042659, 1684.39542659, 2294.14542659,\n",
       "       1936.77042659, 2400.52042659, 1936.77042659, 1763.02042659,\n",
       "       1936.77042659, 1561.52042659, 2400.52042659, 1936.77042659,\n",
       "       2400.52042659, 1936.77042659, 1936.77042659, 1684.39542659,\n",
       "       2400.52042659, 1684.39542659, 1684.39542659, 2400.52042659,\n",
       "       1684.39542659, 1561.52042659, 1936.77042659, 1684.39542659,\n",
       "       1936.77042659, 1684.39542659, 1763.02042659, 1936.77042659,\n",
       "       1684.39542659, 1936.77042659, 1936.77042659, 2294.14542659,\n",
       "       2400.52042659, 1763.02042659, 2400.52042659, 1561.52042659,\n",
       "       2294.14542659, 1936.77042659, 1936.77042659, 1561.52042659,\n",
       "       1684.39542659, 1763.02042659, 2400.52042659, 1936.77042659,\n",
       "       1763.02042659, 1561.52042659, 2294.14542659, 2400.52042659,\n",
       "       1763.02042659, 2294.14542659, 1763.02042659, 1763.02042659,\n",
       "       1763.02042659, 1561.52042659, 1936.77042659, 2400.52042659,\n",
       "       1684.39542659, 1763.02042659, 1684.39542659, 1763.02042659,\n",
       "       1684.39542659, 1936.77042659, 2400.52042659, 1684.39542659,\n",
       "       2400.52042659, 1936.77042659, 1936.77042659, 2400.52042659,\n",
       "       1763.02042659, 1684.39542659, 2400.52042659, 2400.52042659,\n",
       "       1936.77042659, 1936.77042659, 1684.39542659, 1684.39542659,\n",
       "       1936.77042659, 2400.52042659, 1763.02042659, 2400.52042659,\n",
       "       2400.52042659, 1936.77042659, 1763.02042659, 1763.02042659,\n",
       "       2294.14542659, 2400.52042659, 1936.77042659, 1936.77042659,\n",
       "       1684.39542659, 1763.02042659, 1684.39542659, 1561.52042659,\n",
       "       1763.02042659, 2294.14542659, 2294.14542659, 1936.77042659,\n",
       "       1684.39542659, 1561.52042659, 1763.02042659, 2400.52042659,\n",
       "       1684.39542659, 1684.39542659, 2294.14542659, 2400.52042659,\n",
       "       1561.52042659, 1936.77042659, 2400.52042659, 1684.39542659,\n",
       "       1936.77042659, 1684.39542659, 1763.02042659, 1684.39542659,\n",
       "       1684.39542659, 2294.14542659, 2294.14542659, 1936.77042659,\n",
       "       1936.77042659, 1763.02042659, 1763.02042659, 1684.39542659,\n",
       "       1936.77042659, 1936.77042659, 1684.39542659, 1936.77042659,\n",
       "       1561.52042659, 1763.02042659, 1936.77042659, 1561.52042659,\n",
       "       2294.14542659, 2294.14542659, 2294.14542659, 2400.52042659,\n",
       "       1936.77042659, 1763.02042659, 1763.02042659, 2294.14542659,\n",
       "       2400.52042659, 1684.39542659, 1763.02042659, 1561.52042659,\n",
       "       1684.39542659, 1936.77042659, 1561.52042659, 1684.39542659,\n",
       "       1763.02042659, 2294.14542659, 1763.02042659, 2400.52042659,\n",
       "       2400.52042659, 1936.77042659, 2400.52042659, 1936.77042659,\n",
       "       1684.39542659, 1684.39542659, 1936.77042659, 1763.02042659,\n",
       "       1561.52042659, 1936.77042659, 1684.39542659, 1684.39542659,\n",
       "       1684.39542659, 1763.02042659, 1763.02042659, 1936.77042659,\n",
       "       1763.02042659, 1561.52042659, 2400.52042659, 1561.52042659,\n",
       "       1936.77042659, 1684.39542659, 2400.52042659, 1763.02042659,\n",
       "       2400.52042659, 1684.39542659, 1763.02042659, 1684.39542659,\n",
       "       1684.39542659, 1763.02042659, 1936.77042659, 2400.52042659,\n",
       "       2294.14542659, 1684.39542659, 1561.52042659, 2400.52042659,\n",
       "       1763.02042659, 1684.39542659, 1763.02042659, 1936.77042659,\n",
       "       1936.77042659, 2294.14542659, 2400.52042659, 2294.14542659,\n",
       "       1936.77042659, 2294.14542659, 1936.77042659, 2400.52042659,\n",
       "       2400.52042659, 1936.77042659, 2400.52042659, 2294.14542659,\n",
       "       1763.02042659, 1763.02042659, 1936.77042659, 1763.02042659,\n",
       "       1936.77042659, 1684.39542659, 2400.52042659, 2294.14542659,\n",
       "       2400.52042659, 1936.77042659, 1763.02042659, 1936.77042659,\n",
       "       1684.39542659, 2294.14542659, 1936.77042659, 2400.52042659,\n",
       "       2400.52042659, 1936.77042659, 2400.52042659, 1936.77042659,\n",
       "       1763.02042659, 1763.02042659, 2400.52042659, 1763.02042659,\n",
       "       1936.77042659, 1561.52042659, 1684.39542659, 2294.14542659,\n",
       "       1936.77042659, 1936.77042659, 1936.77042659, 2294.14542659,\n",
       "       2294.14542659, 2400.52042659, 2294.14542659, 1936.77042659,\n",
       "       1684.39542659, 1684.39542659, 2400.52042659, 2400.52042659,\n",
       "       1763.02042659, 2294.14542659, 2400.52042659, 1763.02042659,\n",
       "       1561.52042659, 2294.14542659, 1936.77042659, 1936.77042659,\n",
       "       1561.52042659, 2294.14542659, 2400.52042659, 1936.77042659,\n",
       "       1936.77042659, 1561.52042659, 2400.52042659, 1763.02042659,\n",
       "       1936.77042659, 2294.14542659, 1936.77042659, 2400.52042659,\n",
       "       1936.77042659, 1684.39542659, 2400.52042659, 1561.52042659,\n",
       "       1763.02042659, 1763.02042659, 1763.02042659, 2400.52042659,\n",
       "       1763.02042659, 1684.39542659, 2400.52042659, 1684.39542659,\n",
       "       1936.77042659, 1936.77042659, 1763.02042659, 1763.02042659,\n",
       "       2400.52042659, 1936.77042659, 2400.52042659, 1763.02042659,\n",
       "       1936.77042659, 1684.39542659, 2400.52042659, 1936.77042659,\n",
       "       2400.52042659, 1763.02042659, 1684.39542659, 2400.52042659,\n",
       "       1561.52042659, 1936.77042659, 1936.77042659, 1936.77042659,\n",
       "       2400.52042659, 1763.02042659, 1936.77042659, 1936.77042659,\n",
       "       1936.77042659, 2400.52042659, 1936.77042659, 1763.02042659,\n",
       "       1763.02042659, 1561.52042659, 1684.39542659, 1936.77042659,\n",
       "       1684.39542659, 1763.02042659, 1561.52042659, 2400.52042659,\n",
       "       2294.14542659, 1936.77042659, 2400.52042659, 2400.52042659,\n",
       "       1936.77042659, 2400.52042659, 1684.39542659, 2400.52042659,\n",
       "       1763.02042659, 2294.14542659, 1684.39542659, 2400.52042659,\n",
       "       2400.52042659, 2400.52042659, 1684.39542659, 2400.52042659,\n",
       "       1684.39542659, 1763.02042659, 2400.52042659, 1936.77042659,\n",
       "       1936.77042659, 2400.52042659, 1561.52042659, 1684.39542659,\n",
       "       1936.77042659, 2294.14542659, 2400.52042659, 1763.02042659,\n",
       "       2400.52042659, 1936.77042659, 2400.52042659, 1684.39542659,\n",
       "       1561.52042659, 1763.02042659, 2400.52042659, 1763.02042659,\n",
       "       1936.77042659, 1763.02042659, 2400.52042659, 1763.02042659,\n",
       "       1763.02042659, 1763.02042659, 2294.14542659, 1936.77042659,\n",
       "       1561.52042659, 2400.52042659, 1561.52042659, 1763.02042659,\n",
       "       1684.39542659, 1561.52042659, 1763.02042659, 1763.02042659,\n",
       "       2400.52042659, 2400.52042659, 2294.14542659, 1936.77042659,\n",
       "       1763.02042659, 2294.14542659, 1684.39542659, 2400.52042659,\n",
       "       1561.52042659, 1936.77042659, 2294.14542659, 2400.52042659,\n",
       "       2400.52042659, 1936.77042659, 1684.39542659, 2400.52042659,\n",
       "       2400.52042659, 2400.52042659, 2400.52042659, 1684.39542659,\n",
       "       1936.77042659, 1561.52042659, 2294.14542659, 1684.39542659,\n",
       "       2400.52042659, 1763.02042659, 1763.02042659, 1561.52042659,\n",
       "       1684.39542659, 2294.14542659, 1684.39542659, 1936.77042659,\n",
       "       1936.77042659, 2294.14542659, 2400.52042659, 1763.02042659,\n",
       "       1936.77042659, 2294.14542659, 1936.77042659, 1763.02042659,\n",
       "       1763.02042659, 1763.02042659, 1763.02042659, 1684.39542659,\n",
       "       1684.39542659, 2400.52042659, 2400.52042659, 1763.02042659,\n",
       "       1763.02042659, 1763.02042659, 2400.52042659, 2294.14542659,\n",
       "       1561.52042659, 1763.02042659, 1684.39542659, 2400.52042659,\n",
       "       1936.77042659, 1936.77042659, 1763.02042659, 1684.39542659,\n",
       "       2294.14542659, 1936.77042659, 2400.52042659, 1936.77042659,\n",
       "       1684.39542659, 2400.52042659, 2400.52042659, 1684.39542659,\n",
       "       2400.52042659, 1763.02042659, 1561.52042659, 1684.39542659,\n",
       "       1561.52042659, 1763.02042659, 1763.02042659, 1684.39542659,\n",
       "       2400.52042659, 1763.02042659, 1936.77042659, 1561.52042659,\n",
       "       1936.77042659, 1684.39542659, 1684.39542659, 2400.52042659,\n",
       "       1936.77042659, 2294.14542659, 2400.52042659, 1936.77042659,\n",
       "       1763.02042659, 1936.77042659, 1936.77042659, 2294.14542659,\n",
       "       2294.14542659, 1684.39542659, 1936.77042659, 1936.77042659,\n",
       "       2294.14542659, 1684.39542659, 1684.39542659, 1763.02042659,\n",
       "       1763.02042659, 1763.02042659, 1684.39542659, 1936.77042659,\n",
       "       1936.77042659, 1684.39542659, 1684.39542659, 1684.39542659,\n",
       "       1684.39542659, 1684.39542659, 2400.52042659, 1763.02042659,\n",
       "       2400.52042659, 1936.77042659, 1561.52042659, 1763.02042659,\n",
       "       1936.77042659, 2400.52042659, 2400.52042659, 1561.52042659,\n",
       "       1561.52042659, 2294.14542659, 1684.39542659, 1936.77042659,\n",
       "       1936.77042659, 1684.39542659, 1763.02042659, 2400.52042659,\n",
       "       1684.39542659, 1936.77042659, 2294.14542659, 1684.39542659,\n",
       "       2294.14542659, 1763.02042659, 1936.77042659, 2400.52042659,\n",
       "       2294.14542659, 2400.52042659, 2400.52042659, 2294.14542659,\n",
       "       2400.52042659, 1763.02042659, 1684.39542659, 1763.02042659,\n",
       "       1561.52042659, 1684.39542659, 1684.39542659, 2400.52042659])"
      ]
     },
     "execution_count": 164,
     "metadata": {},
     "output_type": "execute_result"
    }
   ],
   "source": [
    "lin_reg.predict(X_test)"
   ]
  },
  {
   "cell_type": "code",
   "execution_count": 165,
   "metadata": {},
   "outputs": [
    {
     "data": {
      "text/plain": [
       "0.6096128871284657"
      ]
     },
     "execution_count": 165,
     "metadata": {},
     "output_type": "execute_result"
    }
   ],
   "source": [
    "lin_reg.score(X_train, y_train)"
   ]
  },
  {
   "cell_type": "code",
   "execution_count": 166,
   "metadata": {
    "collapsed": true
   },
   "outputs": [],
   "source": [
    "#hence by using categorical data we get increase in accuracy"
   ]
  },
  {
   "cell_type": "code",
   "execution_count": 171,
   "metadata": {},
   "outputs": [
    {
     "ename": "AttributeError",
     "evalue": "'numpy.ndarray' object has no attribute 'plot'",
     "output_type": "error",
     "traceback": [
      "\u001b[1;31m---------------------------------------------------------------------------\u001b[0m",
      "\u001b[1;31mAttributeError\u001b[0m                            Traceback (most recent call last)",
      "\u001b[1;32m<ipython-input-171-11af854f81b2>\u001b[0m in \u001b[0;36m<module>\u001b[1;34m()\u001b[0m\n\u001b[0;32m      3\u001b[0m \u001b[1;31m#predicted_price = pd.DataFrame(predicted_price,index=y_test.index,columns = ['price'])\u001b[0m\u001b[1;33m\u001b[0m\u001b[1;33m\u001b[0m\u001b[0m\n\u001b[0;32m      4\u001b[0m \u001b[1;33m\u001b[0m\u001b[0m\n\u001b[1;32m----> 5\u001b[1;33m \u001b[0mpredicted_price\u001b[0m\u001b[1;33m.\u001b[0m\u001b[0mplot\u001b[0m\u001b[1;33m(\u001b[0m\u001b[0mfigsize\u001b[0m\u001b[1;33m=\u001b[0m\u001b[1;33m(\u001b[0m\u001b[1;36m10\u001b[0m\u001b[1;33m,\u001b[0m\u001b[1;36m5\u001b[0m\u001b[1;33m)\u001b[0m\u001b[1;33m)\u001b[0m\u001b[1;33m\u001b[0m\u001b[0m\n\u001b[0m\u001b[0;32m      6\u001b[0m \u001b[1;33m\u001b[0m\u001b[0m\n\u001b[0;32m      7\u001b[0m \u001b[1;31m#y_test.plot()\u001b[0m\u001b[1;33m\u001b[0m\u001b[1;33m\u001b[0m\u001b[0m\n",
      "\u001b[1;31mAttributeError\u001b[0m: 'numpy.ndarray' object has no attribute 'plot'"
     ]
    }
   ],
   "source": [
    "predicted_price = lin_reg.predict(X_test)  \n",
    "\n",
    "#predicted_price = pd.DataFrame(predicted_price,index=y_test.index,columns = ['price'])  \n",
    "\n",
    "predicted_price.plot(figsize=(10,5))  \n",
    "\n",
    "#y_test.plot()  \n",
    "plt.plot(y_test)\n",
    "plt.legend(['predicted_price','actual_price'])  \n",
    "\n",
    "plt.ylabel(\"Gold ETF Price\")  \n",
    "\n",
    "plt.show()"
   ]
  },
  {
   "cell_type": "code",
   "execution_count": 172,
   "metadata": {
    "scrolled": true
   },
   "outputs": [
    {
     "data": {
      "text/plain": [
       "[<matplotlib.lines.Line2D at 0x1de960956a0>]"
      ]
     },
     "execution_count": 172,
     "metadata": {},
     "output_type": "execute_result"
    },
    {
     "data": {
      "image/png": "[encoded data removed]",
      "text/plain": [
       "<matplotlib.figure.Figure at 0x1de95f40eb8>"
      ]
     },
     "metadata": {},
     "output_type": "display_data"
    }
   ],
   "source": [
    "plt.plot(y_test)"
   ]
  },
  {
   "cell_type": "code",
   "execution_count": null,
   "metadata": {
    "collapsed": true
   },
   "outputs": [],
   "source": []
  }
 ],
 "metadata": {
  "kernelspec": {
   "display_name": "Python 3",
   "language": "python",
   "name": "python3"
  },
  "language_info": {
   "codemirror_mode": {
    "name": "ipython",
    "version": 3
   },
   "file_extension": ".py",
   "mimetype": "text/x-python",
   "name": "python",
   "nbconvert_exporter": "python",
   "pygments_lexer": "ipython3",
   "version": "3.6.3"
  }
 },
 "nbformat": 4,
 "nbformat_minor": 2
}
